{
  "nbformat": 4,
  "nbformat_minor": 0,
  "metadata": {
    "colab": {
      "private_outputs": true,
      "provenance": []
    },
    "kernelspec": {
      "name": "python3",
      "display_name": "Python 3"
    },
    "language_info": {
      "name": "python"
    }
  },
  "cells": [
    {
      "cell_type": "markdown",
      "source": [
        "# networkX"
      ],
      "metadata": {
        "id": "A3aKCNL-Vc3E"
      }
    },
    {
      "cell_type": "markdown",
      "source": [
        "In this mini-workshop you will learn about networks using the python package **NetworkX**. You will learn the basic components of a network, certain metrics we can take from it, and the insights we gain by doing so."
      ],
      "metadata": {
        "id": "StxNryG4Vfmg"
      }
    },
    {
      "cell_type": "markdown",
      "source": [
        "## PART 1: Creating Networks"
      ],
      "metadata": {
        "id": "Rgrq6zfoWrDf"
      }
    },
    {
      "cell_type": "markdown",
      "source": [
        "**Definition:** A network is a collection of connected \"things\".\n",
        "\n",
        "A *network* is also called a *graph*.\n",
        "\n",
        "OK, that seems like a simple intuitive definition, but it gets us very far. We represent a network through two mathematical objects: a set of nodes, which stand for the \"things\" above, and a set of edges between those nodes, which stand for the \"connected\" part above."
      ],
      "metadata": {
        "id": "vUhrJ3WBWs98"
      }
    },
    {
      "cell_type": "markdown",
      "source": [
        "Let's get to it."
      ],
      "metadata": {
        "id": "BAqJhT4gXmF9"
      }
    },
    {
      "cell_type": "code",
      "execution_count": null,
      "metadata": {
        "id": "1XAOoxSlVYv4"
      },
      "outputs": [],
      "source": [
        "# Import networkx -- (you may need to install if not working on google colab)\n",
        "import networkx as nx\n",
        "\n",
        "# Other imports\n",
        "import matplotlib.pyplot as plt\n",
        "import matplotlib as mpl\n",
        "import numpy as np\n",
        "import pandas as pd"
      ]
    },
    {
      "cell_type": "markdown",
      "source": [
        "To build a network using NetworkX you just have to call the constructor `Graph()`."
      ],
      "metadata": {
        "id": "gtOAq-QqYPcp"
      }
    },
    {
      "cell_type": "code",
      "source": [
        "# Let's build a network:\n",
        "G = nx.Graph()"
      ],
      "metadata": {
        "id": "CU_pNqi9Xp5B"
      },
      "execution_count": null,
      "outputs": []
    },
    {
      "cell_type": "markdown",
      "source": [
        "And that's it! We have created a network."
      ],
      "metadata": {
        "id": "lSsgDjKMX6cz"
      }
    },
    {
      "cell_type": "markdown",
      "source": [
        "But hold on, we didn't specify its nodes and edges! This just means our graph is empty."
      ],
      "metadata": {
        "id": "90tzR7KDYc85"
      }
    },
    {
      "cell_type": "markdown",
      "source": [
        "Actually, you can check the list of nodes in your graph like this:"
      ],
      "metadata": {
        "id": "ORP9wq5MYrmh"
      }
    },
    {
      "cell_type": "code",
      "source": [
        "list(G.nodes)"
      ],
      "metadata": {
        "id": "k3mNpkusY0QD"
      },
      "execution_count": null,
      "outputs": []
    },
    {
      "cell_type": "markdown",
      "source": [
        "And its empty. As expected."
      ],
      "metadata": {
        "id": "2lvnvTriY4qx"
      }
    },
    {
      "cell_type": "markdown",
      "source": [
        "### Adding nodes\n",
        "\n",
        "So let us add some nodes, we can add nodes to the network like this:"
      ],
      "metadata": {
        "id": "Bxxcm7krY8A_"
      }
    },
    {
      "cell_type": "code",
      "source": [
        "G.add_node(\"some node\")"
      ],
      "metadata": {
        "id": "cFk8iYUaZG37"
      },
      "execution_count": null,
      "outputs": []
    },
    {
      "cell_type": "markdown",
      "source": [
        "Let's check again the list of nodes:"
      ],
      "metadata": {
        "id": "4HA77UcQZLEX"
      }
    },
    {
      "cell_type": "code",
      "source": [
        "list(G.nodes)"
      ],
      "metadata": {
        "id": "VqQFwRg7ZNOv"
      },
      "execution_count": null,
      "outputs": []
    },
    {
      "cell_type": "markdown",
      "source": [
        "Aha! We are getting somwhere.\n",
        "\n",
        "Let's add a few more:"
      ],
      "metadata": {
        "id": "SeThgA8fZPZO"
      }
    },
    {
      "cell_type": "code",
      "source": [
        "G.add_node(1)\n",
        "G.add_node(2)\n",
        "G.add_node(3)\n",
        "\n",
        "list(G.nodes)"
      ],
      "metadata": {
        "id": "7N73X33dZWRE"
      },
      "execution_count": null,
      "outputs": []
    },
    {
      "cell_type": "markdown",
      "source": [
        "We pass `G.nodes` through a list so that it looks more readable and so we can access the nodes easily. Otherwise we get something like this:"
      ],
      "metadata": {
        "id": "o8SbZqVGetUh"
      }
    },
    {
      "cell_type": "code",
      "source": [
        "G.nodes"
      ],
      "metadata": {
        "id": "2EOZzQHze3oI"
      },
      "execution_count": null,
      "outputs": []
    },
    {
      "cell_type": "markdown",
      "source": [
        "### Can everything be a node?\n",
        "\n",
        "Before we continue, a quick word regarding nodes. Many things can be nodes. We have seen two examples already: strings (`\"some node\"`) and numbers (1,2,3). You can also have images, tuples, other graphs, some functions, some files, and a few other objects. The technical specification is that the objects must be *hashable*. If you don't know what this means don't worry for now. What matters is that lists and dataframes are not hashable, and hence cannot be nodes in your network:"
      ],
      "metadata": {
        "id": "p1Zhv5f2ZyRa"
      }
    },
    {
      "cell_type": "code",
      "source": [
        "my_list = [7, 11]   # <-- A list\n",
        "G.add_node(my_list) # <-- This should produce an error."
      ],
      "metadata": {
        "id": "UjPKorUeay-D"
      },
      "execution_count": null,
      "outputs": []
    },
    {
      "cell_type": "markdown",
      "source": [
        "Note that tuples, however, can be nodes:"
      ],
      "metadata": {
        "id": "bmatZI5aa_E2"
      }
    },
    {
      "cell_type": "code",
      "source": [
        "my_tuple = (7, 11)  # <-- A tuple\n",
        "G.add_node(my_tuple)\n",
        "\n",
        "list(G.nodes)"
      ],
      "metadata": {
        "id": "d_Swdug4bBSm"
      },
      "execution_count": null,
      "outputs": []
    },
    {
      "cell_type": "markdown",
      "source": [
        "#### **EXERCISE**"
      ],
      "metadata": {
        "id": "zcZpyriaBarS"
      }
    },
    {
      "cell_type": "markdown",
      "source": [
        "Create a network `my_network` and add nodes to it representing you and some of your friends or classmates or coworkers or members of a community you are part of.\n",
        "\n",
        "Will you use strings, numbers, or tuples for the nodes? Why?\n"
      ],
      "metadata": {
        "id": "W-wHzRuaBdwm"
      }
    },
    {
      "cell_type": "code",
      "source": [],
      "metadata": {
        "id": "chs-LPzKCM5d"
      },
      "execution_count": null,
      "outputs": []
    },
    {
      "cell_type": "markdown",
      "source": [
        "<br><br><br><br><br><br>"
      ],
      "metadata": {
        "id": "6VFUkKimCNxl"
      }
    },
    {
      "cell_type": "markdown",
      "source": [
        "### Visualizing the network"
      ],
      "metadata": {
        "id": "e9vZotXObh_m"
      }
    },
    {
      "cell_type": "markdown",
      "source": [
        "This can't be a network workshop if we don't visualize them! Let's do it right away, and look at the network we have created.\n",
        "\n",
        "We can draw our network with the function `draw()`."
      ],
      "metadata": {
        "id": "pE3UIkPxbk4E"
      }
    },
    {
      "cell_type": "code",
      "source": [
        "nx.draw(G)"
      ],
      "metadata": {
        "id": "Ninboa_abuzp"
      },
      "execution_count": null,
      "outputs": []
    },
    {
      "cell_type": "markdown",
      "source": [
        "Awesome!\n",
        "\n",
        "Except that... well it is not much of a network if nothing is connected. While we have specified our \"things\", we are yet to specify how they are connected."
      ],
      "metadata": {
        "id": "oZq3OGndcTkX"
      }
    },
    {
      "cell_type": "markdown",
      "source": [
        "### Adding edges"
      ],
      "metadata": {
        "id": "L3rnNocYbcVQ"
      }
    },
    {
      "cell_type": "markdown",
      "source": [
        "We can add edges with the function `add_edge`. Note that an edge connects two nodes and hence we must specify both nodes:"
      ],
      "metadata": {
        "id": "TfkZYyBSbfcI"
      }
    },
    {
      "cell_type": "code",
      "source": [
        "G.add_edge(\"some node\", my_tuple)\n",
        "\n",
        "nx.draw(G)"
      ],
      "metadata": {
        "id": "sfNILV6kc3Hj"
      },
      "execution_count": null,
      "outputs": []
    },
    {
      "cell_type": "markdown",
      "source": [
        "Great! let's add a few more:"
      ],
      "metadata": {
        "id": "pK1v-xQ9dHan"
      }
    },
    {
      "cell_type": "code",
      "source": [
        "G.add_edge(my_tuple, 1)\n",
        "G.add_edge(my_tuple, 2)\n",
        "G.add_edge(my_tuple, 3)\n",
        "G.add_edge(1, 2)\n",
        "G.add_edge(1, 3)\n",
        "\n",
        "nx.draw(G)"
      ],
      "metadata": {
        "id": "IDez-c8tdJKn"
      },
      "execution_count": null,
      "outputs": []
    },
    {
      "cell_type": "markdown",
      "source": [
        "Nice. Now, just as we could list the nodes in our network, we can list the edges:"
      ],
      "metadata": {
        "id": "mUImNNr4ebSJ"
      }
    },
    {
      "cell_type": "code",
      "source": [
        "list(G.edges)"
      ],
      "metadata": {
        "id": "LtZvE75_ef-1"
      },
      "execution_count": null,
      "outputs": []
    },
    {
      "cell_type": "markdown",
      "source": [
        "Notice each edge is a \"tuple\" containing the nodes the edge connects."
      ],
      "metadata": {
        "id": "vyKZJXaDeiWh"
      }
    },
    {
      "cell_type": "markdown",
      "source": [
        "The way it is drawn, it is hard to distinguish among nodes. Not to worry, we can give the nodes color, size, and other properties (which we will later in the workshop). For now, let's just label them with their names:"
      ],
      "metadata": {
        "id": "iiJ2rOkldkQ0"
      }
    },
    {
      "cell_type": "code",
      "source": [
        "nx.draw(G, with_labels = True)"
      ],
      "metadata": {
        "id": "z1va_aVfdy_3"
      },
      "execution_count": null,
      "outputs": []
    },
    {
      "cell_type": "markdown",
      "source": [
        "### Note about edges as tuples"
      ],
      "metadata": {
        "id": "DoE-L15_hvE4"
      }
    },
    {
      "cell_type": "markdown",
      "source": [
        "Edges are stored as tuples. At some point you may have a tuple representing an edge and want to add it to a graph. Let's see an example:"
      ],
      "metadata": {
        "id": "XnkbY7zchx_t"
      }
    },
    {
      "cell_type": "code",
      "source": [
        "edge1 = (10,20)   # <-- This is an edge between nodes 10 and 20"
      ],
      "metadata": {
        "id": "khYHVhcwh-n0"
      },
      "execution_count": null,
      "outputs": []
    },
    {
      "cell_type": "markdown",
      "source": [
        "What happens if we add this edge?"
      ],
      "metadata": {
        "id": "FXX6IikBiMol"
      }
    },
    {
      "cell_type": "code",
      "source": [
        "G.add_edge(edge1)"
      ],
      "metadata": {
        "id": "Pfo_KtxciYDa"
      },
      "execution_count": null,
      "outputs": []
    },
    {
      "cell_type": "markdown",
      "source": [
        "Aha! `add_edge` was expecting two arguments (first node, second node), but instead got one. What we need to do is unpack the tuple using the asterisk:"
      ],
      "metadata": {
        "id": "XtsQ3WRhiiwD"
      }
    },
    {
      "cell_type": "code",
      "source": [
        "G.add_edge(*edge1)"
      ],
      "metadata": {
        "id": "wkoli28Wiw7Y"
      },
      "execution_count": null,
      "outputs": []
    },
    {
      "cell_type": "markdown",
      "source": [
        "Let's confirm:"
      ],
      "metadata": {
        "id": "qIVCc_KKi14B"
      }
    },
    {
      "cell_type": "code",
      "source": [
        "list(G.edges)"
      ],
      "metadata": {
        "id": "15EY-RNqi3JZ"
      },
      "execution_count": null,
      "outputs": []
    },
    {
      "cell_type": "markdown",
      "source": [
        "This will come in handy later."
      ],
      "metadata": {
        "id": "yA9cEQ8di855"
      }
    },
    {
      "cell_type": "markdown",
      "source": [
        "#### **EXERCISE**"
      ],
      "metadata": {
        "id": "Qf6hNa2vCw3C"
      }
    },
    {
      "cell_type": "markdown",
      "source": [
        "Add edges to `my_network`!"
      ],
      "metadata": {
        "id": "5QyCLWEMCzgW"
      }
    },
    {
      "cell_type": "code",
      "source": [],
      "metadata": {
        "id": "-N6naTUcC23f"
      },
      "execution_count": null,
      "outputs": []
    },
    {
      "cell_type": "markdown",
      "source": [
        "<br><br><br><br><br><br>"
      ],
      "metadata": {
        "id": "7jSki-W8C3JW"
      }
    },
    {
      "cell_type": "markdown",
      "source": [
        "### SUMMARY 1\n",
        "\n",
        "So far we have learned:\n",
        "*  How to create a network\n",
        "*  How to add nodes and edges\n",
        "*  How to check its list of nodes and edges\n",
        "*  How to draw the network with and without node labels.\n",
        "\n",
        "Here is a code snippet that does all of this:"
      ],
      "metadata": {
        "id": "2VWbxJ9geBre"
      }
    },
    {
      "cell_type": "code",
      "source": [
        "G = nx.Graph()                  # <-- The constructor of a graph\n",
        "\n",
        "G.add_node(1)                   # <-- Adding nodes\n",
        "G.add_node(2)\n",
        "G.add_node(3)\n",
        "G.add_node(4)\n",
        "\n",
        "G.add_edge(1,2)                 # <-- Adding edges\n",
        "G.add_edge(1,3)\n",
        "G.add_edge(1,4)\n",
        "G.add_edge(2,3)\n",
        "\n",
        "node_list = list(G.nodes)       # <-- Nodes and edges lists\n",
        "edge_list = list(G.edges)\n",
        "print(f\"The nodes are:{node_list}, and the edges are:{edge_list}.\")\n",
        "\n",
        "nx.draw(G, with_labels = True)  # <-- Drawing the network"
      ],
      "metadata": {
        "id": "xmCRDR0qfC1D"
      },
      "execution_count": null,
      "outputs": []
    },
    {
      "cell_type": "markdown",
      "source": [
        "### Adding nodes and edges **FROM** lists\n"
      ],
      "metadata": {
        "id": "pDpR6zs_bVJh"
      }
    },
    {
      "cell_type": "markdown",
      "source": [
        "As mentioned earlier, lists cannot be nodes. However, we can add nodes **from** a list of objects. This also saves us the tedious task of adding them one by one."
      ],
      "metadata": {
        "id": "pUfd2-hO1_Fh"
      }
    },
    {
      "cell_type": "markdown",
      "source": [
        "First, you can specify an initial set of nodes and edges when you construct the graph. You just need to provide the list of edges (the nodes will be added automatically):"
      ],
      "metadata": {
        "id": "UKvfyYR_yUKN"
      }
    },
    {
      "cell_type": "code",
      "source": [
        "my_edges = [(1,2),(1,3),(1,4),(2,3)]\n",
        "\n",
        "G = nx.Graph(my_edges) # <-- Constructing network with predetermined nodes/edges\n",
        "\n",
        "print(list(G.nodes))\n",
        "print(list(G.edges))\n",
        "nx.draw(G, with_labels =True)"
      ],
      "metadata": {
        "id": "YhngcrFzybG_"
      },
      "execution_count": null,
      "outputs": []
    },
    {
      "cell_type": "markdown",
      "source": [
        "You can also add a set of nodes and/or edges after you have constructed the network, like this:"
      ],
      "metadata": {
        "id": "bePg9Th3yTLo"
      }
    },
    {
      "cell_type": "code",
      "source": [
        "my_nodes = [1,2,3]\n",
        "\n",
        "G = nx.Graph()              # <-- Build empty graph\n",
        "G.add_nodes_from(my_nodes)  # <-- Add list of nodes\n",
        "\n",
        "list(G.nodes)"
      ],
      "metadata": {
        "id": "OLt-MFZqvea4"
      },
      "execution_count": null,
      "outputs": []
    },
    {
      "cell_type": "markdown",
      "source": [
        "You can add nodes from another network, for example:"
      ],
      "metadata": {
        "id": "lJXA64ybx_wz"
      }
    },
    {
      "cell_type": "code",
      "source": [
        "H = nx.Graph()\n",
        "H.add_nodes_from([4,5])\n",
        "\n",
        "G.add_nodes_from(H)\n",
        "list(G.nodes)"
      ],
      "metadata": {
        "id": "g1dnVw0U2eSL"
      },
      "execution_count": null,
      "outputs": []
    },
    {
      "cell_type": "markdown",
      "source": [
        "Just be careful and make sure you add the nodes from H, and not H itself! This is also possible, if you are building a graph of graphs:"
      ],
      "metadata": {
        "id": "F-_PI46M2tri"
      }
    },
    {
      "cell_type": "code",
      "source": [
        "G.add_node(H)\n",
        "list(G.nodes)"
      ],
      "metadata": {
        "id": "Nqxc23HA24uH"
      },
      "execution_count": null,
      "outputs": []
    },
    {
      "cell_type": "markdown",
      "source": [
        "You can also add edges from a list (or set or some other structure):"
      ],
      "metadata": {
        "id": "dPsi98oZN6m9"
      }
    },
    {
      "cell_type": "code",
      "source": [
        "G.add_edges_from([(1,2), (1,3), (2,3), (\"some node\", 1)])\n",
        "list(G.edges)"
      ],
      "metadata": {
        "id": "erjYZP4jODVN"
      },
      "execution_count": null,
      "outputs": []
    },
    {
      "cell_type": "markdown",
      "source": [
        "**NOTE:**\n",
        "\n",
        "When you are building a graph from data, you must ensure the data is in the format NetworkX likes. Remember that to build a graph directly from an edge list, the edge list must be a list of tuples, so you may need to modify your data a little bit. You can also build it from a numpy array.\n",
        "\n",
        "For details see [here](https://networkx.org/documentation/stable/reference/classes/graph.html#networkx.Graph).\n",
        "\n",
        "We will see examples of this in a second."
      ],
      "metadata": {
        "id": "7tNr_a_H_6AV"
      }
    },
    {
      "cell_type": "markdown",
      "source": [
        "## PART 2: Networks from datasets"
      ],
      "metadata": {
        "id": "pOevpawNxQ7g"
      }
    },
    {
      "cell_type": "markdown",
      "source": [
        "OK, let us explore now a real dataset and take advantage of that to learn a bit about network metrics."
      ],
      "metadata": {
        "id": "6oZBwYQW3QF2"
      }
    },
    {
      "cell_type": "markdown",
      "source": [
        "### Using Pandas"
      ],
      "metadata": {
        "id": "NnSOshQ4kcE8"
      }
    },
    {
      "cell_type": "markdown",
      "source": [
        "First, we will get a protein-protein interaction dataset we obtained originally from [here](http://networksciencebook.com/translations/en/resources/data.html). To easily do so we will use pandas to obtain our data from Github:"
      ],
      "metadata": {
        "id": "Nzkaqur_5e6J"
      }
    },
    {
      "cell_type": "code",
      "source": [
        "# Remember we imported pandas as pd\n",
        "data_df = pd.read_csv(\"https://raw.githubusercontent.com/nuitrcs/NetworkX/main/protein.edgelist.txt\", sep = \"\\t\", header = None)"
      ],
      "metadata": {
        "id": "H6uAzsQv7iyb"
      },
      "execution_count": null,
      "outputs": []
    },
    {
      "cell_type": "markdown",
      "source": [
        "This file is an edge list, with only two columns. Each row indicates an edge connecting two nodes."
      ],
      "metadata": {
        "id": "o-13qI0O8bxF"
      }
    },
    {
      "cell_type": "code",
      "source": [
        "data_df.head()"
      ],
      "metadata": {
        "id": "whH04cF18o_h"
      },
      "execution_count": null,
      "outputs": []
    },
    {
      "cell_type": "code",
      "source": [
        "data_df.shape"
      ],
      "metadata": {
        "id": "fylAkbycBcF4"
      },
      "execution_count": null,
      "outputs": []
    },
    {
      "cell_type": "markdown",
      "source": [
        "Now, we have to ensure our data is in the format NetworkX likes. Fortunately, NetworkX has a function to create a network from a pandas dataframe:"
      ],
      "metadata": {
        "id": "yZ_hIGE1_xR-"
      }
    },
    {
      "cell_type": "code",
      "source": [
        "G_protein = nx.from_pandas_edgelist(data_df, source = 0, target=1) # <-- loading a pandas dataframe"
      ],
      "metadata": {
        "id": "xVbFp34h-AHC"
      },
      "execution_count": null,
      "outputs": []
    },
    {
      "cell_type": "markdown",
      "source": [
        "Notice the `source` and `target` attributes? That is to account for directed graphs (which just means there is a direction in the edges). In this case it doesn't matter so we can specify any of our two columns as source and the other as target."
      ],
      "metadata": {
        "id": "-SHirXDG-3t_"
      }
    },
    {
      "cell_type": "markdown",
      "source": [
        "Before we visualize it, let's remove the self loops (they clutter our visualization):"
      ],
      "metadata": {
        "id": "U7ukuUpcjYlY"
      }
    },
    {
      "cell_type": "code",
      "source": [
        "self_loops = nx.selfloop_edges(G_protein)\n",
        "G_protein.remove_edges_from(self_loops)"
      ],
      "metadata": {
        "id": "auK4xgxLjgs2"
      },
      "execution_count": null,
      "outputs": []
    },
    {
      "cell_type": "markdown",
      "source": [
        "Now we can draw it. I'll make the node size smaller also:"
      ],
      "metadata": {
        "id": "EBO311d-kEMu"
      }
    },
    {
      "cell_type": "code",
      "source": [
        "nx.draw(G_protein, node_size = 10)"
      ],
      "metadata": {
        "id": "9R6p3SdkBj6E"
      },
      "execution_count": null,
      "outputs": []
    },
    {
      "cell_type": "markdown",
      "source": [
        "Now, what if NetworkX didn't recognize pandas? Or if for some reason you didn't have a dataframe but a file to parse through (most realistic scenario)? Well, remember all we need to do is to give NetworkX tuples or lists of tuples. Here's an example using pandas `itertuples`.\n",
        "\n",
        "If you are not familiar with this function, it gives an iterator (meaning something you can iterate over in a loop)."
      ],
      "metadata": {
        "id": "YRMMAFNQ_Lux"
      }
    },
    {
      "cell_type": "code",
      "source": [
        "counter = 0\n",
        "\n",
        "for edge in data_df.itertuples(index = False, name = None):\n",
        "  print(edge)\n",
        "\n",
        "  counter = counter + 1     # <-- This is so we can stop after a few rows\n",
        "  if counter > 5:\n",
        "    break"
      ],
      "metadata": {
        "id": "D0hh6G2VcsXu"
      },
      "execution_count": null,
      "outputs": []
    },
    {
      "cell_type": "markdown",
      "source": [
        "**Side Note:** We set the arguments `index` and `name` to False and None so as to get the \"pure\" tuples. To learn more visit [here](https://pandas.pydata.org/docs/reference/api/pandas.DataFrame.itertuples.html)."
      ],
      "metadata": {
        "id": "FSIifVClf7Ch"
      }
    },
    {
      "cell_type": "markdown",
      "source": [
        "Let's create a graph like this with the first 100 edges:"
      ],
      "metadata": {
        "id": "U_3p5pBggkLX"
      }
    },
    {
      "cell_type": "code",
      "source": [
        "G_tuples = nx.Graph()\n",
        "\n",
        "counter = 0\n",
        "for edge in data_df.itertuples(index = False, name = None):\n",
        "  G_tuples.add_edge(*edge)\n",
        "  counter +=1\n",
        "  if counter > 100: break\n",
        "\n",
        "nx.draw(G_tuples, node_size = 10)"
      ],
      "metadata": {
        "id": "e5TtpqzagqNa"
      },
      "execution_count": null,
      "outputs": []
    },
    {
      "cell_type": "markdown",
      "source": [
        "**NOTE**:\n",
        "\n",
        "My intention with the above scenario is that if at some point you have a large data file, not on pandas, you remember you can iterate over its rows, convert them into tuples, and add them to the network. While this is the \"long\" way of doing it, it is safe and should work."
      ],
      "metadata": {
        "id": "BV6mi7Z7kfea"
      }
    },
    {
      "cell_type": "markdown",
      "source": [
        "### Using NumPy"
      ],
      "metadata": {
        "id": "9bzR9JZAlCrX"
      }
    },
    {
      "cell_type": "markdown",
      "source": [
        "You can also build a graph using numpy arrays, but in this case the numpy array must be an adjacency matrix (see section on adjacency matrices). Here's a quick toy example:"
      ],
      "metadata": {
        "id": "0vR6zUbylFT3"
      }
    },
    {
      "cell_type": "code",
      "source": [
        "# Create adjacency matrix:\n",
        "adj1 = np.array([[0, 1, 1, 1], [1, 0, 1, 0], [1, 1, 0, 0], [1, 0, 0, 0]])\n",
        "\n",
        "# Create graph\n",
        "G_from_np = nx.Graph(adj1)"
      ],
      "metadata": {
        "id": "BvcLNqcIlRTq"
      },
      "execution_count": null,
      "outputs": []
    },
    {
      "cell_type": "code",
      "source": [
        "nx.draw(G_from_np)"
      ],
      "metadata": {
        "id": "f_aMkJMgl1GF"
      },
      "execution_count": null,
      "outputs": []
    },
    {
      "cell_type": "markdown",
      "source": [
        "### Summary 2\n",
        "\n",
        "*  You can load network datasets into NetworkX. These usually look like edge lists or adjacecy matrices.\n",
        "*  numpy and pandas are your friends.\n",
        "*  If your dataset is too large for pandas, parse through the rows of your file, turn them into tuples, and feed them to your network."
      ],
      "metadata": {
        "id": "ZAZiRELeh-tM"
      }
    },
    {
      "cell_type": "markdown",
      "source": [
        "## PART 3: Subgraphs and Connected Components"
      ],
      "metadata": {
        "id": "qiPefd8Am7nY"
      }
    },
    {
      "cell_type": "markdown",
      "source": [
        "Let's go back to our G_protein graph. It seems to have one large cluster of nodes which are all connected, and a few smaller clusters. Let's get rid of the smaller ones. To do so, we must find the \"connected components \" of our graph."
      ],
      "metadata": {
        "id": "ZdUmQVnim_YG"
      }
    },
    {
      "cell_type": "markdown",
      "source": [
        "NetworkX has a function to find connected components:"
      ],
      "metadata": {
        "id": "7JJKoZ60nVn0"
      }
    },
    {
      "cell_type": "code",
      "source": [
        "CC = nx.connected_components(G_protein)"
      ],
      "metadata": {
        "id": "NObPoIf1nY-_"
      },
      "execution_count": null,
      "outputs": []
    },
    {
      "cell_type": "markdown",
      "source": [
        "This gives us a graph generator, which we will use in a second. If you want to take a look, just \"list\" them, as below. Note that each collection inside curly brackets is a connected component. The first one is huge, the others only have a couple of nodes."
      ],
      "metadata": {
        "id": "854DBE_WnxIC"
      }
    },
    {
      "cell_type": "code",
      "source": [
        "list(CC)"
      ],
      "metadata": {
        "id": "C_iKxbfbnebf"
      },
      "execution_count": null,
      "outputs": []
    },
    {
      "cell_type": "markdown",
      "source": [
        "OK, what do we do with this? Each connected component is a \"subgraph\" of our original graph, so we can use the `subgraph()` function. But first let's recover the componenent we want:"
      ],
      "metadata": {
        "id": "bmgpqeDYoHGm"
      }
    },
    {
      "cell_type": "code",
      "source": [
        "largest_comp = max(CC, key=len)                 # <-- Get largest component\n",
        "\n",
        "G_protein_2 = G_protein.subgraph(largest_comp)  # <-- Subgraph induced by largest comp."
      ],
      "metadata": {
        "id": "4RUNsc_hofuz"
      },
      "execution_count": null,
      "outputs": []
    },
    {
      "cell_type": "markdown",
      "source": [
        "Note that the connected componenet is basically a colelction of nodes. The `subgraph()` function takes care of adding the edges (since it already has the information of the original graph). Any collection of nodes will work to induce a subgraph with this function."
      ],
      "metadata": {
        "id": "LhHvPmylO0JT"
      }
    },
    {
      "cell_type": "markdown",
      "source": [
        "Let's visualize it:"
      ],
      "metadata": {
        "id": "U8sLuAiIpSic"
      }
    },
    {
      "cell_type": "code",
      "source": [
        "nx.draw(G_protein_2, node_size = 10)"
      ],
      "metadata": {
        "id": "JAw9iED5pUtP"
      },
      "execution_count": null,
      "outputs": []
    },
    {
      "cell_type": "markdown",
      "source": [
        "OK, this is still a bit messy, what if we subsample from this graph?"
      ],
      "metadata": {
        "id": "9ToseZjXpjmF"
      }
    },
    {
      "cell_type": "markdown",
      "source": [
        "First, get a subsample of the nodes:"
      ],
      "metadata": {
        "id": "errOrWlPtTeO"
      }
    },
    {
      "cell_type": "code",
      "source": [
        "# Get the nodes list:\n",
        "proteins = list(G_protein_2.nodes)"
      ],
      "metadata": {
        "id": "4V2s7cLKtiLr"
      },
      "execution_count": null,
      "outputs": []
    },
    {
      "cell_type": "code",
      "source": [
        "proteins[0:10]"
      ],
      "metadata": {
        "id": "OGErKlEjvfQH"
      },
      "execution_count": null,
      "outputs": []
    },
    {
      "cell_type": "code",
      "source": [
        "# Choose new size, let's pick a fraction of the original nodes\n",
        "N = len(proteins)\n",
        "n = int(.4 * N)\n",
        "\n",
        "# Get a subsample from the nodes list\n",
        "proteins_subsample = np.random.choice(proteins, size = n)"
      ],
      "metadata": {
        "id": "B9BsQx2EqEXY"
      },
      "execution_count": null,
      "outputs": []
    },
    {
      "cell_type": "markdown",
      "source": [
        "Now, use it to obtain the desired subgraph:"
      ],
      "metadata": {
        "id": "0EPeBWvJtWWI"
      }
    },
    {
      "cell_type": "code",
      "source": [
        "H = G_protein_2.subgraph(proteins_subsample)"
      ],
      "metadata": {
        "id": "55ab0pbTtaY3"
      },
      "execution_count": null,
      "outputs": []
    },
    {
      "cell_type": "markdown",
      "source": [
        "OK, let's visualize this more manageable network:"
      ],
      "metadata": {
        "id": "RI5GtH4yxowU"
      }
    },
    {
      "cell_type": "code",
      "source": [
        "nx.draw(H, node_size = 10)"
      ],
      "metadata": {
        "id": "062D5d2kxr-e"
      },
      "execution_count": null,
      "outputs": []
    },
    {
      "cell_type": "markdown",
      "source": [
        "#### **EXERCISE**"
      ],
      "metadata": {
        "id": "mQ0bReFWPLxy"
      }
    },
    {
      "cell_type": "markdown",
      "source": [
        "Load the edge list dataset listed below into a graph. Create a subgraph with a portion of the nodes, randomly sampled. Visualize it."
      ],
      "metadata": {
        "id": "1_xdNjuPPOoX"
      }
    },
    {
      "cell_type": "code",
      "source": [
        "fpath = \"https://raw.githubusercontent.com/nuitrcs/NetworkX/main/metabolic.edgelist.txt\""
      ],
      "metadata": {
        "id": "gCBqdKDbQpIb"
      },
      "execution_count": null,
      "outputs": []
    },
    {
      "cell_type": "code",
      "source": [
        "\n"
      ],
      "metadata": {
        "id": "kek1xlraQy9j"
      },
      "execution_count": null,
      "outputs": []
    },
    {
      "cell_type": "markdown",
      "source": [
        "<br><br><br><br><br><br>"
      ],
      "metadata": {
        "id": "aS_Bec4zQu_f"
      }
    },
    {
      "cell_type": "markdown",
      "source": [
        "### SUMMARY 3\n",
        "\n",
        "*   If you have a subset of a graph nodes, use `subgraph()` to create a new graph only containing those nodes.\n",
        "*   You can find the connected components of your graph using `connected_compoenents()`."
      ],
      "metadata": {
        "id": "PYOy9y7Bi-ba"
      }
    },
    {
      "cell_type": "markdown",
      "source": [
        "## part 4: Network Metrics and Properties"
      ],
      "metadata": {
        "id": "WF8eqeXByvcX"
      }
    },
    {
      "cell_type": "markdown",
      "source": [
        "Time to analyze our network. There are many metrics and information you can get from a network.\n",
        "\n",
        "Since this workshop is an intro to NetworkX and not to network science/graph theory, we can't go over the meaning of all properties and metrics. For that, I recommend Barabasi's free book, [here](http://networksciencebook.com)."
      ],
      "metadata": {
        "id": "XfrQXLoQ1CkO"
      }
    },
    {
      "cell_type": "markdown",
      "source": [
        "### Degree distribution"
      ],
      "metadata": {
        "id": "3fpYaJdb8JwC"
      }
    },
    {
      "cell_type": "markdown",
      "source": [
        "A very common task first is to study the *degree distribution*. So we will start with that.\n",
        "\n",
        "For that, we first need to know what a *degree* is. The degree of a node is just the number of nodes connected to it (which is the same as the number of edges coming out of it)."
      ],
      "metadata": {
        "id": "5TbvhnSs1V3O"
      }
    },
    {
      "cell_type": "code",
      "source": [
        "G = G_protein_2   # <-- Renaming\n",
        "\n",
        "node_list = list(G.nodes)\n",
        "\n",
        "d1 = G.degree(node_list[0])  # <-- Returns degree of first node\n",
        "\n",
        "D = G.degree(nbunch = node_list[0:4])    # <-- Returns degrees of a few nodes"
      ],
      "metadata": {
        "id": "hJkDlIcN2_5t"
      },
      "execution_count": null,
      "outputs": []
    },
    {
      "cell_type": "code",
      "source": [
        "print(D) # <-- Note how the degrees are given as tuples (node, degree)"
      ],
      "metadata": {
        "id": "AKZeg1I65APS"
      },
      "execution_count": null,
      "outputs": []
    },
    {
      "cell_type": "markdown",
      "source": [
        "You can also get the full degree list by not putting any argument:"
      ],
      "metadata": {
        "id": "TclaR3cE5x5E"
      }
    },
    {
      "cell_type": "code",
      "source": [
        "# Optional\n",
        "D = G.degree()  # <-- Full degree list"
      ],
      "metadata": {
        "id": "mpWLC-xz52ke"
      },
      "execution_count": null,
      "outputs": []
    },
    {
      "cell_type": "markdown",
      "source": [
        "There is also a function for the degree distribution:"
      ],
      "metadata": {
        "id": "m9h-7WW25-Xe"
      }
    },
    {
      "cell_type": "code",
      "source": [
        "# The degree distribution\n",
        "deg_dist = nx.degree_histogram(G)\n",
        "\n",
        "print(deg_dist[1:10])"
      ],
      "metadata": {
        "id": "hbAGiIIy6B3U"
      },
      "execution_count": null,
      "outputs": []
    },
    {
      "cell_type": "markdown",
      "source": [
        "Which we can plot:"
      ],
      "metadata": {
        "id": "LeRf43ua6Rc4"
      }
    },
    {
      "cell_type": "code",
      "source": [
        "x_positions = np.arange(len(deg_dist))\n",
        "plt.bar(x_positions, deg_dist)"
      ],
      "metadata": {
        "id": "5gxHgwmP6VRu"
      },
      "execution_count": null,
      "outputs": []
    },
    {
      "cell_type": "markdown",
      "source": [
        "We can always normalize:"
      ],
      "metadata": {
        "id": "kK6n5jes70RS"
      }
    },
    {
      "cell_type": "code",
      "source": [
        "deg_dist = deg_dist/np.sum(deg_dist)\n",
        "plt.bar(x_positions, deg_dist)"
      ],
      "metadata": {
        "id": "-k8mVcw777QL"
      },
      "execution_count": null,
      "outputs": []
    },
    {
      "cell_type": "markdown",
      "source": [
        "### Clustering Coefficient"
      ],
      "metadata": {
        "id": "50AiACK68PI-"
      }
    },
    {
      "cell_type": "markdown",
      "source": [
        "Another common metric, the *clustering coefficient*, gives a measure of how clustered neighbors of a node are (are my friends friends of each other?)."
      ],
      "metadata": {
        "id": "btxEfS6g9XTf"
      }
    },
    {
      "cell_type": "code",
      "source": [
        "node_list = list(G.nodes)\n",
        "\n",
        "nx.clustering(G, node_list[0])"
      ],
      "metadata": {
        "id": "h-cODrP1_-C8"
      },
      "execution_count": null,
      "outputs": []
    },
    {
      "cell_type": "code",
      "source": [
        "# This gives us a few:\n",
        "nx.clustering(G, nodes = node_list[0:10])"
      ],
      "metadata": {
        "id": "bf8l-og8901K"
      },
      "execution_count": null,
      "outputs": []
    },
    {
      "cell_type": "markdown",
      "source": [
        "This network doesn't have a lot of \"triangles\" (as we can see in the visualization), which is why we get many zeros."
      ],
      "metadata": {
        "id": "JS0ahkw3-yxf"
      }
    },
    {
      "cell_type": "markdown",
      "source": [
        "You can also get the average clustering coefficient. That is, the average over all clustering coefficients of all nodes in the graph:"
      ],
      "metadata": {
        "id": "bnmcQE3v-6kk"
      }
    },
    {
      "cell_type": "code",
      "source": [
        "total = 0\n",
        "for node in node_list:\n",
        "  total = total + nx.clustering(G, nodes = node)\n",
        "avg_clust = total/len(node_list)\n",
        "\n",
        "print(avg_clust)"
      ],
      "metadata": {
        "id": "aS0NvvSq_Tlm"
      },
      "execution_count": null,
      "outputs": []
    },
    {
      "cell_type": "markdown",
      "source": [
        "This network only has around 3,000 nodes, however, some times our networks are so big it is prohibitive to iterate over every node. You can still approximate the average coefficient. NetworkX has a function for that:"
      ],
      "metadata": {
        "id": "ESjWnh_lAb-6"
      }
    },
    {
      "cell_type": "code",
      "source": [
        "nx.approximation.average_clustering(G, trials = 500)"
      ],
      "metadata": {
        "id": "nHJGL-wX_BiV"
      },
      "execution_count": null,
      "outputs": []
    },
    {
      "cell_type": "markdown",
      "source": [
        "### Betweenness"
      ],
      "metadata": {
        "id": "fv4ArOuJA4tL"
      }
    },
    {
      "cell_type": "markdown",
      "source": [
        "*Betweenness* provides a sense of the \"influence\", of a node: it tells you how many shortest paths have to go through it. Here is how to get it. The argument `k`, indicates how many samples to use to estimate the betweenness of a node. If you don't specify it, it will take a long time to compute:"
      ],
      "metadata": {
        "id": "mcdvXWtBBOL_"
      }
    },
    {
      "cell_type": "code",
      "source": [
        "bet = nx.betweenness_centrality(G, k = 10)\n",
        "\n",
        "# print(bet)              # <-- Uncomment if you want to see result for all nodes\n",
        "\n",
        "list(bet.items())[0:10]   # <-- Looking at first few nodes"
      ],
      "metadata": {
        "id": "gbIh_AGTBeEF"
      },
      "execution_count": null,
      "outputs": []
    },
    {
      "cell_type": "markdown",
      "source": [
        "### **EXERCISE**"
      ],
      "metadata": {
        "id": "SRPsAvV6RBOJ"
      }
    },
    {
      "cell_type": "markdown",
      "source": [
        "Compute the betweenness for your `my_network` network. What is your own betweenness metric?"
      ],
      "metadata": {
        "id": "nu1lA-C0RDvH"
      }
    },
    {
      "cell_type": "code",
      "source": [],
      "metadata": {
        "id": "lVvnRf4qRYYE"
      },
      "execution_count": null,
      "outputs": []
    },
    {
      "cell_type": "markdown",
      "source": [
        "<br><br><br><br><br><br>"
      ],
      "metadata": {
        "id": "lAJNlYdzRY8a"
      }
    },
    {
      "cell_type": "markdown",
      "source": [
        "### Communities\n",
        "\n",
        "Let's finish by looking at community discovery, which is another common task when analyzing a network. There are different algorithms depending on how communties are defined. Here is one example:"
      ],
      "metadata": {
        "id": "Hqv4XfMBFSyw"
      }
    },
    {
      "cell_type": "code",
      "source": [
        "comms = nx.community.label_propagation_communities(G)\n",
        "\n",
        "comms"
      ],
      "metadata": {
        "id": "CE12PzrWHi5D"
      },
      "execution_count": null,
      "outputs": []
    },
    {
      "cell_type": "markdown",
      "source": [
        "**NOTE:**\n",
        "The protein network above does not have a lot of community structure, which is why we got so many communities above."
      ],
      "metadata": {
        "id": "Uu995V0PJIln"
      }
    },
    {
      "cell_type": "markdown",
      "source": [
        "Notice each community is represented by a python \"set\"."
      ],
      "metadata": {
        "id": "PMuWKmP2OgUi"
      }
    },
    {
      "cell_type": "markdown",
      "source": [
        "### SUMMARY 4\n",
        "\n",
        "There are many important properties of your network that you can obtain easily with NetworkX. We saw:\n",
        "*   Degree Distribution\n",
        "*   Clustering Coefficient\n",
        "*   Betweenness\n",
        "*   Communities\n",
        "\n",
        "\n"
      ],
      "metadata": {
        "id": "qKhtwY8hjV_O"
      }
    },
    {
      "cell_type": "markdown",
      "source": [
        "### EXTRA: Coloring nodes according to community"
      ],
      "metadata": {
        "id": "ORvEVs1hUQJe"
      }
    },
    {
      "cell_type": "markdown",
      "source": [
        "Let's do something fun. Let us select only the large communities, and color them for visualization. All the other nodes we will color black."
      ],
      "metadata": {
        "id": "fdZB0SyiJ9fJ"
      }
    },
    {
      "cell_type": "code",
      "source": [
        "# Get list of large communities\n",
        "new_comms = [c for c in list(comms) if len(c) > 10]"
      ],
      "metadata": {
        "id": "8F1SbegZKBV0"
      },
      "execution_count": null,
      "outputs": []
    },
    {
      "cell_type": "code",
      "source": [
        "# Merge all other mini-communities, it will make sense in a second\n",
        "small_comms = [c for c in list(comms) if len(c) <= 10]\n",
        "merged_community = set.union(*small_comms)"
      ],
      "metadata": {
        "id": "GzqKRzyeN8g8"
      },
      "execution_count": null,
      "outputs": []
    },
    {
      "cell_type": "code",
      "source": [
        "# Optional\n",
        "print(f\"Merged Community:{merged_community}\")"
      ],
      "metadata": {
        "id": "W2shq-KcPwIh"
      },
      "execution_count": null,
      "outputs": []
    },
    {
      "cell_type": "markdown",
      "source": [
        "We add it to our list of communities:"
      ],
      "metadata": {
        "id": "FxCeRQ74OvEP"
      }
    },
    {
      "cell_type": "code",
      "source": [
        "# Insert in first position:\n",
        "new_comms.insert(0, merged_community)"
      ],
      "metadata": {
        "id": "FjXLxgipOxNq"
      },
      "execution_count": null,
      "outputs": []
    },
    {
      "cell_type": "markdown",
      "source": [
        "Let's look at our communities:"
      ],
      "metadata": {
        "id": "RkC7uqtzPZAy"
      }
    },
    {
      "cell_type": "code",
      "source": [
        "for i, C_i in enumerate(new_comms):\n",
        "  print(f\"Community Index:{i}, Community:{C_i}\")"
      ],
      "metadata": {
        "id": "j1OfMhKcMaLE"
      },
      "execution_count": null,
      "outputs": []
    },
    {
      "cell_type": "markdown",
      "source": [
        "OK, we have 17 communities. Let's create a colormap of that size. If you were here last week, you'll know how to do this, otherwise, don't worry, this is just for fun:"
      ],
      "metadata": {
        "id": "pRqyqUCuRgxF"
      }
    },
    {
      "cell_type": "code",
      "source": [
        "cm = mpl.colormaps[\"viridis\"].resampled(16)   # <-- Get 16 colors from viridis\n",
        "cm = np.vstack(([.8,.8,.8,.4], cm.colors))        # <-- Add light grey\n",
        "cm = mpl.colors.ListedColormap(cm)            # <-- Turn back into colormap object"
      ],
      "metadata": {
        "id": "lM_aSmKFNthA"
      },
      "execution_count": null,
      "outputs": []
    },
    {
      "cell_type": "markdown",
      "source": [
        "When drawing a graph, we must give a list of colors per node (or of indices of colors corresponding to a colormap). That means we need to have a full list indicating the community of each node (and not the nodes of each community, as above). Let's do that:"
      ],
      "metadata": {
        "id": "WL2TvqUfUac_"
      }
    },
    {
      "cell_type": "code",
      "source": [
        "# Create a {node, community index} correspondence dictionary\n",
        "node_comm_correspondence = {n: i for i, C_i in enumerate(new_comms) for n in C_i}\n",
        "\n",
        "# Make a list according to nodes order\n",
        "node_comm = [node_comm_correspondence[n] for n in G.nodes]"
      ],
      "metadata": {
        "id": "jC69oxxCSG2H"
      },
      "execution_count": null,
      "outputs": []
    },
    {
      "cell_type": "markdown",
      "source": [
        "(If you have a nicer way of writing the above, let me know!)"
      ],
      "metadata": {
        "id": "C02Bw4_kWNHb"
      }
    },
    {
      "cell_type": "markdown",
      "source": [
        "OK, time to visualize:"
      ],
      "metadata": {
        "id": "yez7vIQKWPR9"
      }
    },
    {
      "cell_type": "code",
      "source": [
        "nx.draw(G, node_size = 10, width = .1,\n",
        "        node_color = node_comm, cmap = cm)"
      ],
      "metadata": {
        "id": "4x6IN47BWRJR"
      },
      "execution_count": null,
      "outputs": []
    },
    {
      "cell_type": "markdown",
      "source": [
        "## PART X: Miscellanea"
      ],
      "metadata": {
        "id": "oJLyHo1Hxlcb"
      }
    },
    {
      "cell_type": "markdown",
      "source": [
        "Well, this has been a long workshop, we won't have much time to review other things you can do with NetworkX. Here are some links for further guidance:"
      ],
      "metadata": {
        "id": "eiUJQVUEYN-8"
      }
    },
    {
      "cell_type": "markdown",
      "source": [
        "### Adjacency Matrix\n",
        "\n",
        "This matrix is crucial for network analysis. [Here](https://networkx.org/documentation/stable/reference/generated/networkx.linalg.graphmatrix.adjacency_matrix.html)'s how to get it. You can also build graphs from adjacency matrices."
      ],
      "metadata": {
        "id": "kQYlfv6QasTd"
      }
    },
    {
      "cell_type": "markdown",
      "source": [
        "### Neighbors Function\n",
        "\n",
        "Many algorithms require obtaining the neighbors of a given node. Indeed you may need these without having to implement a complicated algorithm. You have a function for that, called `neighbors`. See [here](https://networkx.org/documentation/stable/reference/generated/networkx.classes.function.neighbors.html)."
      ],
      "metadata": {
        "id": "XyGo2by_a4qC"
      }
    },
    {
      "cell_type": "markdown",
      "source": [
        "### Attributes\n",
        "\n",
        "Your nodes and your edges can carry attributes! You can store, for example, community membership, metrics, color, size, etc. See more [here](https://networkx.org/documentation/stable/tutorial.html#adding-attributes-to-graphs-nodes-and-edges)."
      ],
      "metadata": {
        "id": "CRdohJiXZHLE"
      }
    },
    {
      "cell_type": "markdown",
      "source": [
        "### Default Graphs\n",
        "\n",
        "NetworkX also has a variety of predetermined graphs or graph generators you can use if you don't have a dataset. Check [here](https://networkx.org/documentation/stable/reference/generators.html)."
      ],
      "metadata": {
        "id": "ALLT5iNkZdjV"
      }
    },
    {
      "cell_type": "markdown",
      "source": [
        "### Other Network Types\n",
        "\n",
        "Finally, you can also deal with directed graphs and hypergraphs. Learn more about that [here](https://networkx.org/documentation/stable/reference/classes/index.html)."
      ],
      "metadata": {
        "id": "raStCgS6Z51A"
      }
    },
    {
      "cell_type": "markdown",
      "source": [
        "## Conclusion"
      ],
      "metadata": {
        "id": "mpAUV-q8j3T_"
      }
    },
    {
      "cell_type": "markdown",
      "source": [
        "NetworkX is a powerful library that can help you analyze your network data. We learned the basic functionality, how to load a dataset, and how to compute some important properties and metrics.\n",
        "\n",
        "Now it's your turn to play around and discover more advanced topics! If you have questions moving forward, don't hesitate to contact us.\n",
        "\n",
        "Note that NetworkX is not the only network library out there, but it is a user friendly one and it has good documentation. Even if you end up using a different library, the main concepts are more or less similar, so we hope this workshop is a good starting place for your future endeavors."
      ],
      "metadata": {
        "id": "VhU63QBxj7S3"
      }
    }
  ]
}
